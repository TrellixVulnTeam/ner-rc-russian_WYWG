{
  "nbformat": 4,
  "nbformat_minor": 0,
  "metadata": {
    "colab": {
      "name": "ernie",
      "provenance": [],
      "collapsed_sections": []
    },
    "kernelspec": {
      "name": "python3",
      "display_name": "Python 3"
    },
    "accelerator": "GPU"
  },
  "cells": [
    {
      "cell_type": "markdown",
      "metadata": {
        "id": "71VvNhtiD8Sh",
        "colab_type": "text"
      },
      "source": [
        "This example is based on usage of free services such as GoogleColab and GoogleDrive. Make sure that we have access to the video card and google drive is connected:"
      ]
    },
    {
      "cell_type": "code",
      "metadata": {
        "id": "fonz55S9NsTK",
        "colab_type": "code",
        "outputId": "dda615ba-11f5-4ba1-fa1c-d38b090be48a",
        "colab": {
          "base_uri": "https://localhost:8080/",
          "height": 312
        }
      },
      "source": [
        "!nvidia-smi"
      ],
      "execution_count": 1,
      "outputs": [
        {
          "output_type": "stream",
          "text": [
            "Thu May 14 06:37:11 2020       \n",
            "+-----------------------------------------------------------------------------+\n",
            "| NVIDIA-SMI 440.82       Driver Version: 418.67       CUDA Version: 10.1     |\n",
            "|-------------------------------+----------------------+----------------------+\n",
            "| GPU  Name        Persistence-M| Bus-Id        Disp.A | Volatile Uncorr. ECC |\n",
            "| Fan  Temp  Perf  Pwr:Usage/Cap|         Memory-Usage | GPU-Util  Compute M. |\n",
            "|===============================+======================+======================|\n",
            "|   0  Tesla K80           Off  | 00000000:00:04.0 Off |                    0 |\n",
            "| N/A   70C    P8    33W / 149W |      0MiB / 11441MiB |      0%      Default |\n",
            "+-------------------------------+----------------------+----------------------+\n",
            "                                                                               \n",
            "+-----------------------------------------------------------------------------+\n",
            "| Processes:                                                       GPU Memory |\n",
            "|  GPU       PID   Type   Process name                             Usage      |\n",
            "|=============================================================================|\n",
            "|  No running processes found                                                 |\n",
            "+-----------------------------------------------------------------------------+\n"
          ],
          "name": "stdout"
        }
      ]
    },
    {
      "cell_type": "code",
      "metadata": {
        "id": "nRzl73LHLtoT",
        "colab_type": "code",
        "outputId": "08c6dd12-734b-477d-84cc-30f747be43b9",
        "colab": {
          "base_uri": "https://localhost:8080/",
          "height": 124
        }
      },
      "source": [
        "from google.colab import drive\n",
        "drive.mount('/content/drive')"
      ],
      "execution_count": 2,
      "outputs": [
        {
          "output_type": "stream",
          "text": [
            "Go to this URL in a browser: https://accounts.google.com/o/oauth2/auth?client_id=947318989803-6bn6qk8qdgf4n4g3pfee6491hc0brc4i.apps.googleusercontent.com&redirect_uri=urn%3aietf%3awg%3aoauth%3a2.0%3aoob&response_type=code&scope=email%20https%3a%2f%2fwww.googleapis.com%2fauth%2fdocs.test%20https%3a%2f%2fwww.googleapis.com%2fauth%2fdrive%20https%3a%2f%2fwww.googleapis.com%2fauth%2fdrive.photos.readonly%20https%3a%2f%2fwww.googleapis.com%2fauth%2fpeopleapi.readonly\n",
            "\n",
            "Enter your authorization code:\n",
            "··········\n",
            "Mounted at /content/drive\n"
          ],
          "name": "stdout"
        }
      ]
    },
    {
      "cell_type": "markdown",
      "metadata": {
        "id": "KRl0_DLLDPvX",
        "colab_type": "text"
      },
      "source": [
        "# ERNIE pretraining"
      ]
    },
    {
      "cell_type": "markdown",
      "metadata": {
        "id": "wS8nGOyDDrkc",
        "colab_type": "text"
      },
      "source": [
        "## Knowledge embeddings"
      ]
    },
    {
      "cell_type": "code",
      "metadata": {
        "id": "3O9dPlncFhCb",
        "colab_type": "code",
        "colab": {}
      },
      "source": [
        "!python drive/'My Drive'/OpenKE/train_transe_wikidata.py \\\n",
        "        --benchmark drive/'My Drive'/OpenKE/benchmarks/wikidata/ \\\n",
        "        --checkpoint drive/'My Drive'/OpenKE/checkpoint/ \\\n",
        "        --epochs 1 \\\n",
        "        --alpha 0.001"
      ],
      "execution_count": 0,
      "outputs": []
    },
    {
      "cell_type": "code",
      "metadata": {
        "id": "rcJjEUllLDnI",
        "colab_type": "code",
        "colab": {}
      },
      "source": [
        "!python drive/'My Drive'/OpenKE/get_embeddings.py \\\n",
        "        --benchmark drive/'My Drive'/OpenKE/benchmarks/wikidata/ \\\n",
        "        --checkpoint drive/'My Drive'/OpenKE/checkpoint/ \\\n",
        "        --embedding drive/'My Drive'/OpenKE/kg_embed/ \\"
      ],
      "execution_count": 0,
      "outputs": []
    },
    {
      "cell_type": "markdown",
      "metadata": {
        "id": "ayzWzKhrMexH",
        "colab_type": "text"
      },
      "source": [
        "Now you need to move that embeddings to ERNIE/kb_embed"
      ]
    },
    {
      "cell_type": "code",
      "metadata": {
        "id": "7fK8jjWgND8D",
        "colab_type": "code",
        "colab": {
          "base_uri": "https://localhost:8080/",
          "height": 34
        },
        "outputId": "c588625b-b65d-4392-b7f6-81aeecbc0738"
      },
      "source": [
        "!mv drive/'My Drive'/OpenKE/kg_embed/entity2vec.vec drive/'My Drive'/ERNIE/kg_embed/entity2vec.vec\n",
        "!mv drive/'My Drive'/OpenKE/kg_embed/relation2vec.vec drive/'My Drive'/ERNIE/kg_embed/relation2vec.vec\n",
        "!cp drive/'My Drive'/OpenKE/benchmarks/wikidata/entity2id.txt drive/'My Drive'/ERNIE/kb_embed/entity2id.txt"
      ],
      "execution_count": 20,
      "outputs": [
        {
          "output_type": "stream",
          "text": [
            "mv: cannot move 'drive/My Drive/OpenKE/kb_embed/entity2vec.vec' to 'drive/My Drive/ERNIE/kb_embed/entity2vec.vec': No such file or directory\n"
          ],
          "name": "stdout"
        }
      ]
    },
    {
      "cell_type": "markdown",
      "metadata": {
        "id": "McksOmK5OrGL",
        "colab_type": "text"
      },
      "source": [
        "And add \"enity map.txt\" from wikidata preprocessing to \"ERNIE/kb_embed\""
      ]
    },
    {
      "cell_type": "markdown",
      "metadata": {
        "id": "VeHZfFo0Dzax",
        "colab_type": "text"
      },
      "source": [
        "## Pretraining"
      ]
    },
    {
      "cell_type": "markdown",
      "metadata": {
        "id": "go81iojL8IaZ",
        "colab_type": "text"
      },
      "source": [
        "Apex install example (for using fp16 to speed up training)"
      ]
    },
    {
      "cell_type": "code",
      "metadata": {
        "id": "wAA80JJpKz5O",
        "colab_type": "code",
        "colab": {}
      },
      "source": [
        "!pip show apex"
      ],
      "execution_count": 0,
      "outputs": []
    },
    {
      "cell_type": "code",
      "metadata": {
        "id": "MuZDzZwPxuMm",
        "colab_type": "code",
        "colab": {}
      },
      "source": [
        "%%writefile setup.sh\n",
        "\n",
        "export CUDA_HOME=/usr/local/cuda-10.1\n",
        "git clone https://github.com/NVIDIA/apex\n",
        "pip install -v --no-cache-dir --global-option=\"--cpp_ext\" --global-option=\"--cuda_ext\" ./apex"
      ],
      "execution_count": 0,
      "outputs": []
    },
    {
      "cell_type": "code",
      "metadata": {
        "id": "98Y2L8so12rq",
        "colab_type": "code",
        "colab": {}
      },
      "source": [
        "%time\n",
        "!sh setup.sh"
      ],
      "execution_count": 0,
      "outputs": []
    },
    {
      "cell_type": "markdown",
      "metadata": {
        "id": "DzLlkzc39TTB",
        "colab_type": "text"
      },
      "source": [
        "ERNIE pretraining"
      ]
    },
    {
      "cell_type": "code",
      "metadata": {
        "id": "fytcL9oMPDg8",
        "colab_type": "code",
        "colab": {
          "base_uri": "https://localhost:8080/",
          "height": 260
        },
        "outputId": "9bd582bf-e897-491c-e78a-3acc8b0362d1"
      },
      "source": [
        "!python drive/'My Drive'/ERNIE/code/run_pretrain.py"
      ],
      "execution_count": 21,
      "outputs": [
        {
          "output_type": "stream",
          "text": [
            "Better speed can be achieved with apex installed from https://www.github.com/nvidia/apex.\n",
            "usage: run_pretrain.py [-h] --data_dir DATA_DIR --bert_model BERT_MODEL\n",
            "                       --task_name TASK_NAME --output_dir OUTPUT_DIR\n",
            "                       [--max_seq_length MAX_SEQ_LENGTH] [--do_train]\n",
            "                       [--do_eval] [--do_lower_case]\n",
            "                       [--train_batch_size TRAIN_BATCH_SIZE]\n",
            "                       [--eval_batch_size EVAL_BATCH_SIZE]\n",
            "                       [--learning_rate LEARNING_RATE]\n",
            "                       [--num_train_epochs NUM_TRAIN_EPOCHS]\n",
            "                       [--warmup_proportion WARMUP_PROPORTION] [--no_cuda]\n",
            "                       [--local_rank LOCAL_RANK] [--seed SEED]\n",
            "                       [--gradient_accumulation_steps GRADIENT_ACCUMULATION_STEPS]\n",
            "                       [--fp16] [--loss_scale LOSS_SCALE]\n",
            "run_pretrain.py: error: the following arguments are required: --data_dir, --bert_model, --task_name, --output_dir\n"
          ],
          "name": "stdout"
        }
      ]
    },
    {
      "cell_type": "code",
      "metadata": {
        "id": "NTTw6WLp-AO7",
        "colab_type": "code",
        "colab": {}
      },
      "source": [
        "!python drive/'My Drive'/ERNIE/code/run_pretrain.py \\\n",
        "    --do_train \\\n",
        "    --data_dir drive/'My Drive'/ERNIE/pretrain_data/merge \\\n",
        "    --bert_model drive/'My Drive'/ERNIE/ernie_base \\\n",
        "    --output_dir drive/'My Drive'/ERNIE/pretrain_out/ \\\n",
        "    --kg_embed_dir drive/'My Drive'/ERNIE/kg_embed/ \\\n",
        "    --task_name pretrain \\\n",
        "    --max_seq_length 256 \\\n",
        "    --train_batch_size 8 \\\n",
        "    --num_train_epochs 1 \\\n",
        "    --steps_to_save 10"
      ],
      "execution_count": 0,
      "outputs": []
    },
    {
      "cell_type": "markdown",
      "metadata": {
        "id": "MeZdDuGrQNE0",
        "colab_type": "text"
      },
      "source": [
        "Словарь в ерни - левый, нужно поменять\n",
        "Дописать авто чистку аутпута"
      ]
    },
    {
      "cell_type": "markdown",
      "metadata": {
        "id": "I8YEl45WAj91",
        "colab_type": "text"
      },
      "source": [
        "Без записи в аут - быстрее в несколько раз по началу\n",
        "\n",
        "Чтобы вернуть лимит GPU нужно создать новый ноутбук\n",
        "\n"
      ]
    },
    {
      "cell_type": "markdown",
      "metadata": {
        "id": "sBVSJPSo-Yod",
        "colab_type": "text"
      },
      "source": [
        "# ERNIE fine-tuning"
      ]
    },
    {
      "cell_type": "markdown",
      "metadata": {
        "id": "zS6-DbDpsiWu",
        "colab_type": "text"
      },
      "source": [
        "In progress"
      ]
    }
  ]
}