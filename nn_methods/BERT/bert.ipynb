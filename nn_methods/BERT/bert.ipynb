{
  "nbformat": 4,
  "nbformat_minor": 0,
  "metadata": {
    "colab": {
      "name": "bert-finetuning_1",
      "provenance": [],
      "collapsed_sections": [],
      "toc_visible": true
    },
    "kernelspec": {
      "name": "python3",
      "display_name": "Python 3"
    },
    "accelerator": "GPU"
  },
  "cells": [
    {
      "cell_type": "code",
      "metadata": {
        "id": "2YSXWu73P2Lt",
        "colab_type": "code",
        "colab": {}
      },
      "source": [
        "!nvidia-smi"
      ],
      "execution_count": 0,
      "outputs": []
    },
    {
      "cell_type": "code",
      "metadata": {
        "id": "9tragCnMPiU-",
        "colab_type": "code",
        "colab": {}
      },
      "source": [
        "!pip install transformers\n",
        "!pip install seqeval\n",
        "!pip install pytorch-crf"
      ],
      "execution_count": 0,
      "outputs": []
    },
    {
      "cell_type": "markdown",
      "metadata": {
        "id": "x3aQUJ-_L23J",
        "colab_type": "text"
      },
      "source": [
        "For arguments:"
      ]
    },
    {
      "cell_type": "code",
      "metadata": {
        "id": "3sFuvKWGkoC1",
        "colab_type": "code",
        "colab": {}
      },
      "source": [
        "!python drive/'My Drive'/BERT/run_language_modeling.py "
      ],
      "execution_count": 0,
      "outputs": []
    },
    {
      "cell_type": "markdown",
      "metadata": {
        "id": "TkCt0TzELvQX",
        "colab_type": "text"
      },
      "source": [
        "BERT pretraining (on small data):"
      ]
    },
    {
      "cell_type": "code",
      "metadata": {
        "id": "bYqlIT6Khxkj",
        "colab_type": "code",
        "colab": {}
      },
      "source": [
        "!python drive/'My Drive'/BERT/run_language_modeling.py \\\n",
        "    --output_dir=drive/'My Drive'/BERT/output \\\n",
        "    --model_type=bert \\\n",
        "    --model_name_or_path=drive/'My Drive'/BERT/bert_base \\\n",
        "    --do_train \\\n",
        "    --train_data_file=drive/'My Drive'/BERT/wikitext_train_sci.raw \\\n",
        "    --block_size=512 \\\n",
        "    --mlm \\\n",
        "    --save_steps=10000 \\\n",
        "    --num_train_epochs=200 \\\n",
        "    --overwrite_output_dir"
      ],
      "execution_count": 0,
      "outputs": []
    },
    {
      "cell_type": "markdown",
      "metadata": {
        "id": "eJA5DRMmMLuV",
        "colab_type": "text"
      },
      "source": [
        "Testing:"
      ]
    },
    {
      "cell_type": "code",
      "metadata": {
        "id": "agM6CQhjZMyq",
        "colab_type": "code",
        "colab": {}
      },
      "source": [
        "!python drive/'My Drive'/BERT/run_language_modeling.py \\\n",
        "    --output_dir=drive/'My Drive'/BERT/sci_200 \\\n",
        "    --model_type=bert \\\n",
        "    --model_name_or_path=drive/'My Drive'/BERT/sci_200 \\\n",
        "    --do_eval \\\n",
        "    --train_data_file=drive/'My Drive'/BERT/wikitext_train_sci.raw \\\n",
        "    --eval_data_file=drive/'My Drive'/BERT/wikitext_train_sci.raw \\\n",
        "    --block_size=512 \\\n",
        "    --mlm"
      ],
      "execution_count": 0,
      "outputs": []
    },
    {
      "cell_type": "markdown",
      "metadata": {
        "id": "WhQw8tXiMCqP",
        "colab_type": "text"
      },
      "source": [
        "Итоговая перплексия для экономических текстов: \n",
        "\n",
        "* 9.27 (5 эпох, маленькая коллекция)\n",
        "\n",
        "Итоговая перплексия для научно-технических текстов:\n",
        "\n",
        "* 1739 (10 epochs)\n",
        "* 38.6 (100 epochs)\n",
        "* 1.37 (200 epochs)\n"
      ]
    },
    {
      "cell_type": "markdown",
      "metadata": {
        "id": "sWpJAld6NXpT",
        "colab_type": "text"
      },
      "source": [
        "Работа с большим датасетом (через построчное чтение):"
      ]
    },
    {
      "cell_type": "code",
      "metadata": {
        "id": "4KPv_BNmZM69",
        "colab_type": "code",
        "colab": {}
      },
      "source": [
        "!python drive/'My Drive'/BERT/run_language_modeling.py \\\n",
        "    --output_dir=drive/'My Drive'/BERT/output \\\n",
        "    --model_type=bert \\\n",
        "    --model_name_or_path=drive/'My Drive'/BERT/bert_base \\\n",
        "    --do_train \\\n",
        "    --train_data_file=drive/'My Drive'/BERT/wikitext_train_sci.raw \\\n",
        "    --block_size=512 \\\n",
        "    --mlm \\\n",
        "    --save_steps=100000 \\\n",
        "    --num_train_epochs=1 \\\n",
        "    --overwrite_output_dir \\\n",
        "    --line_by_line"
      ],
      "execution_count": 0,
      "outputs": []
    },
    {
      "cell_type": "markdown",
      "metadata": {
        "id": "Fq_OSn8wPBgR",
        "colab_type": "text"
      },
      "source": [
        "NER train (linear classifier):"
      ]
    },
    {
      "cell_type": "code",
      "metadata": {
        "id": "Xn1K9JtUvSaw",
        "colab_type": "code",
        "colab": {}
      },
      "source": [
        "!python3 drive/'My Drive'/BERT/run_ner.py"
      ],
      "execution_count": 0,
      "outputs": []
    },
    {
      "cell_type": "code",
      "metadata": {
        "id": "1Prrk-_BZNAr",
        "colab_type": "code",
        "colab": {}
      },
      "source": [
        "!python3 drive/'My Drive'/BERT/run_ner.py \\\n",
        "    --data_dir drive/'My Drive'/BERT/ner_sci_data \\\n",
        "    --model_type bert \\\n",
        "    --labels drive/'My Drive'/BERT/ner_sci_data/labels.txt \\\n",
        "    --model_name_or_path drive/'My Drive'/BERT/sci_200 \\\n",
        "    --output_dir drive/'My Drive'/BERT/ner_sci_output \\\n",
        "    --max_seq_length 128 \\\n",
        "    --num_train_epochs 50 \\\n",
        "    --per_gpu_train_batch_size 32 \\\n",
        "    --save_steps 100000 \\\n",
        "    --overwrite_output_dir \\\n",
        "    --do_train"
      ],
      "execution_count": 0,
      "outputs": []
    },
    {
      "cell_type": "markdown",
      "metadata": {
        "id": "OoRv2wnlfda9",
        "colab_type": "text"
      },
      "source": [
        "NER eval:"
      ]
    },
    {
      "cell_type": "code",
      "metadata": {
        "id": "wpcdEXdpZNDh",
        "colab_type": "code",
        "colab": {}
      },
      "source": [
        "!python3 drive/'My Drive'/BERT/run_ner.py \\\n",
        "    --data_dir drive/'My Drive'/BERT/ner_sci_data \\\n",
        "    --model_type bert \\\n",
        "    --labels drive/'My Drive'/BERT/ner_sci_data/labels.txt \\\n",
        "    --model_name_or_path drive/'My Drive'/BERT/ner_sci_output \\\n",
        "    --output_dir drive/'My Drive'/BERT/ner_sci_output \\\n",
        "    --max_seq_length 128 \\\n",
        "    --per_gpu_eval_batch_size 32 \\\n",
        "    --do_eval"
      ],
      "execution_count": 0,
      "outputs": []
    },
    {
      "cell_type": "markdown",
      "metadata": {
        "id": "nLM0AC47BR61",
        "colab_type": "text"
      },
      "source": [
        "F1\n",
        "\n",
        "Eco\n",
        "\n",
        "* small_pretrained, 3 epochs - 0.21\n",
        "* small_pretrained, 10 epochs - 0.3\n",
        "* small_pretrained, 50 epochs - 0.3 \n",
        "\n",
        "Sci\n",
        "\n",
        "* 50 epochs, f1 - 0.527"
      ]
    },
    {
      "cell_type": "markdown",
      "metadata": {
        "id": "egCOrUhIjgq5",
        "colab_type": "text"
      },
      "source": [
        "NER, LSTM-CRF classifier:"
      ]
    },
    {
      "cell_type": "code",
      "metadata": {
        "id": "-gM73IBFhHPY",
        "colab_type": "code",
        "colab": {}
      },
      "source": [
        "!python3 drive/'My Drive'/BERT/run_ner.py \\\n",
        "    --data_dir drive/'My Drive'/BERT/ner_sci_data \\\n",
        "    --model_type bert \\\n",
        "    --labels drive/'My Drive'/BERT/ner_sci_data/labels.txt \\\n",
        "    --model_name_or_path drive/'My Drive'/BERT/sci_200 \\\n",
        "    --output_dir drive/'My Drive'/BERT/ner_sci_output \\\n",
        "    --max_seq_length 128 \\\n",
        "    --num_train_epochs 50 \\\n",
        "    --per_gpu_train_batch_size 32 \\\n",
        "    --save_steps 10000 \\\n",
        "    --overwrite_output_dir \\\n",
        "    --do_train \\\n",
        "    --classifier lstm_crf"
      ],
      "execution_count": 0,
      "outputs": []
    },
    {
      "cell_type": "code",
      "metadata": {
        "id": "yr3eKr3ehHSY",
        "colab_type": "code",
        "colab": {}
      },
      "source": [
        "!python3 drive/'My Drive'/BERT/run_ner.py \\\n",
        "    --data_dir drive/'My Drive'/BERT/ner_sci_data \\\n",
        "    --model_type bert \\\n",
        "    --labels drive/'My Drive'/BERT/ner_sci_data/labels.txt \\\n",
        "    --model_name_or_path drive/'My Drive'/BERT/ner_sci_output \\\n",
        "    --output_dir drive/'My Drive'/BERT/ner_sci_output \\\n",
        "    --max_seq_length 128 \\\n",
        "    --do_eval \\\n",
        "    --per_gpu_eval_batch_size 32 \\\n",
        "    --classifier lstm_crf"
      ],
      "execution_count": 0,
      "outputs": []
    },
    {
      "cell_type": "markdown",
      "metadata": {
        "id": "LkA5vf6etNm-",
        "colab_type": "text"
      },
      "source": [
        "LSTM-CRF NER, small_5ep\n",
        "\n",
        "* 3 epochs, mean loss - 0.256, loss - 18 \n",
        "* 10 epochs, mean loss - 029, loss - 23.9\n",
        "* 10 epochs, token_mean loss - 0.29, loss - 1.00\n",
        "* 50 epochs, token_mean loss - 0.307, loss - 1.9\n",
        "\n",
        "Sci:\n",
        "\n",
        "* 3 epochs, f1 - 0.25\n",
        "* 10 epochs, f1 - 0.5\n",
        "* 50 epochs, f1 - 0.514\n"
      ]
    },
    {
      "cell_type": "code",
      "metadata": {
        "id": "3ejt7m1EKCYD",
        "colab_type": "code",
        "colab": {}
      },
      "source": [
        ""
      ],
      "execution_count": 0,
      "outputs": []
    },
    {
      "cell_type": "markdown",
      "metadata": {
        "id": "xdFNF8rsfNku",
        "colab_type": "text"
      },
      "source": [
        "LSTM-Linear NER, small_5ep"
      ]
    },
    {
      "cell_type": "code",
      "metadata": {
        "id": "5B9sgU4RhHVO",
        "colab_type": "code",
        "colab": {}
      },
      "source": [
        "!python3 drive/'My Drive'/BERT/run_ner.py \\\n",
        "    --data_dir drive/'My Drive'/BERT/ner_data \\\n",
        "    --model_type bert \\\n",
        "    --labels drive/'My Drive'/BERT/ner_data/labels.txt \\\n",
        "    --model_name_or_path drive/'My Drive'/BERT/small_5ep \\\n",
        "    --output_dir drive/'My Drive'/BERT/ner_output \\\n",
        "    --max_seq_length 128 \\\n",
        "    --num_train_epochs 50 \\\n",
        "    --per_gpu_train_batch_size 64 \\\n",
        "    --save_steps 10000 \\\n",
        "    --overwrite_output_dir \\\n",
        "    --do_train \\\n",
        "    --classifier lstm_linear"
      ],
      "execution_count": 0,
      "outputs": []
    },
    {
      "cell_type": "code",
      "metadata": {
        "id": "iKe3-C5BhHM0",
        "colab_type": "code",
        "colab": {}
      },
      "source": [
        "!python3 drive/'My Drive'/BERT/run_ner.py \\\n",
        "    --data_dir drive/'My Drive'/BERT/ner_data \\\n",
        "    --model_type bert \\\n",
        "    --labels drive/'My Drive'/BERT/ner_data/labels.txt \\\n",
        "    --model_name_or_path drive/'My Drive'/BERT/ner_output \\\n",
        "    --output_dir drive/'My Drive'/BERT/ner_output \\\n",
        "    --max_seq_length 128 \\\n",
        "    --do_eval \\\n",
        "    --per_gpu_eval_batch_size 64 \\\n",
        "    --classifier lstm_linear"
      ],
      "execution_count": 0,
      "outputs": []
    },
    {
      "cell_type": "markdown",
      "metadata": {
        "id": "esM711Yyfccg",
        "colab_type": "text"
      },
      "source": [
        "Result:\n",
        "\n",
        "3 epochs, f1 - 0.24, loss - 0.81\n",
        "50 epochs, f1 - 0.308, loss - 2.09"
      ]
    },
    {
      "cell_type": "markdown",
      "metadata": {
        "colab_type": "text",
        "id": "YQCUIqSWfikN"
      },
      "source": [
        "CNN-CRF NER, small_5ep"
      ]
    },
    {
      "cell_type": "code",
      "metadata": {
        "colab_type": "code",
        "id": "LU-p3X5Jfikc",
        "colab": {}
      },
      "source": [
        "!python3 drive/'My Drive'/BERT/run_ner.py \\\n",
        "    --data_dir drive/'My Drive'/BERT/ner_data \\\n",
        "    --model_type bert \\\n",
        "    --labels drive/'My Drive'/BERT/ner_data/labels.txt \\\n",
        "    --model_name_or_path drive/'My Drive'/BERT/small_5ep \\\n",
        "    --output_dir drive/'My Drive'/BERT/ner_output \\\n",
        "    --max_seq_length 128 \\\n",
        "    --num_train_epochs 50 \\\n",
        "    --per_gpu_train_batch_size 64 \\\n",
        "    --save_steps 10000 \\\n",
        "    --overwrite_output_dir \\\n",
        "    --do_train \\\n",
        "    --classifier cnn_crf"
      ],
      "execution_count": 0,
      "outputs": []
    },
    {
      "cell_type": "code",
      "metadata": {
        "colab_type": "code",
        "id": "rPw3ggsSfikv",
        "colab": {}
      },
      "source": [
        "!python3 drive/'My Drive'/BERT/run_ner.py \\\n",
        "    --data_dir drive/'My Drive'/BERT/ner_data \\\n",
        "    --model_type bert \\\n",
        "    --labels drive/'My Drive'/BERT/ner_data/labels.txt \\\n",
        "    --model_name_or_path drive/'My Drive'/BERT/ner_output \\\n",
        "    --output_dir drive/'My Drive'/BERT/ner_output \\\n",
        "    --max_seq_length 128 \\\n",
        "    --do_eval \\\n",
        "    --per_gpu_eval_batch_size 64 \\\n",
        "    --classifier cnn_crf"
      ],
      "execution_count": 0,
      "outputs": []
    },
    {
      "cell_type": "markdown",
      "metadata": {
        "colab_type": "text",
        "id": "5_B-5Eykfik5"
      },
      "source": [
        "Result:\n",
        "\n",
        "3 epochs: 0.015, loss - 26 (mean)\n",
        "\n",
        "50 epochs: 0.296, loss - 2.15 (token-mean)  # use 2 bocks"
      ]
    },
    {
      "cell_type": "markdown",
      "metadata": {
        "colab_type": "text",
        "id": "g5DMlW8xfoE0"
      },
      "source": [
        "CNN-Linear NER, small_5ep"
      ]
    },
    {
      "cell_type": "code",
      "metadata": {
        "colab_type": "code",
        "id": "DpZ7eGqsfoE3",
        "colab": {}
      },
      "source": [
        "!python3 drive/'My Drive'/BERT/run_ner.py \\\n",
        "    --data_dir drive/'My Drive'/BERT/ner_data \\\n",
        "    --model_type bert \\\n",
        "    --labels drive/'My Drive'/BERT/ner_data/labels.txt \\\n",
        "    --model_name_or_path drive/'My Drive'/BERT/small_5ep \\\n",
        "    --output_dir drive/'My Drive'/BERT/ner_output \\\n",
        "    --max_seq_length 128 \\\n",
        "    --num_train_epochs 50 \\\n",
        "    --per_gpu_train_batch_size 64 \\\n",
        "    --save_steps 10000 \\\n",
        "    --overwrite_output_dir \\\n",
        "    --do_train \\\n",
        "    --classifier cnn_linear"
      ],
      "execution_count": 0,
      "outputs": []
    },
    {
      "cell_type": "code",
      "metadata": {
        "colab_type": "code",
        "id": "Y9Yf6c64foE_",
        "colab": {}
      },
      "source": [
        "!python3 drive/'My Drive'/BERT/run_ner.py \\\n",
        "    --data_dir drive/'My Drive'/BERT/ner_data \\\n",
        "    --model_type bert \\\n",
        "    --labels drive/'My Drive'/BERT/ner_data/labels.txt \\\n",
        "    --model_name_or_path drive/'My Drive'/BERT/ner_output \\\n",
        "    --output_dir drive/'My Drive'/BERT/ner_output \\\n",
        "    --max_seq_length 128 \\\n",
        "    --do_eval \\\n",
        "    --per_gpu_eval_batch_size 64 \\\n",
        "    --classifier cnn_linear"
      ],
      "execution_count": 0,
      "outputs": []
    },
    {
      "cell_type": "markdown",
      "metadata": {
        "colab_type": "text",
        "id": "qJWvqDlWfoFF"
      },
      "source": [
        "Result:\n",
        "\n",
        "50 epochs, loss - 2.52, f1 - 0.284"
      ]
    },
    {
      "cell_type": "markdown",
      "metadata": {
        "id": "NhgvP9i9pT6N",
        "colab_type": "text"
      },
      "source": [
        "BERT Relation Extraction"
      ]
    },
    {
      "cell_type": "code",
      "metadata": {
        "id": "pnCYKLo0nI15",
        "colab_type": "code",
        "colab": {}
      },
      "source": [
        "!python3 drive/'My Drive'/BERT/run_re.py \\\n",
        "    --data_dir drive/'My Drive'/BERT/re_sci_data \\\n",
        "    --model_type bert \\\n",
        "    --labels drive/'My Drive'/BERT/re_sci_data/labels.txt \\\n",
        "    --model_name_or_path drive/'My Drive'/BERT/sci_200 \\\n",
        "    --output_dir drive/'My Drive'/BERT/re_sci_output \\\n",
        "    --max_seq_length 256 \\\n",
        "    --num_train_epochs 10 \\\n",
        "    --per_gpu_train_batch_size 1 \\\n",
        "    --per_gpu_eval_batch_size 1 \\\n",
        "    --save_steps 100000 \\\n",
        "    --do_train \\\n",
        "    --no_cuda \\\n",
        "    --overwrite_output_dir \\"
      ],
      "execution_count": 0,
      "outputs": []
    },
    {
      "cell_type": "code",
      "metadata": {
        "id": "5NJLzdKBnI4y",
        "colab_type": "code",
        "colab": {}
      },
      "source": [
        "!python3 drive/'My Drive'/BERT/run_re.py \\\n",
        "    --data_dir drive/'My Drive'/BERT/re_data \\\n",
        "    --model_type bert \\\n",
        "    --labels drive/'My Drive'/BERT/re_data/labels.txt \\\n",
        "    --model_name_or_path drive/'My Drive'/BERT/re_output \\\n",
        "    --output_dir drive/'My Drive'/BERT/re_output \\\n",
        "    --max_seq_length 256 \\\n",
        "    --per_gpu_eval_batch_size 32 \\\n",
        "    --do_eval"
      ],
      "execution_count": 0,
      "outputs": []
    },
    {
      "cell_type": "markdown",
      "metadata": {
        "id": "spgj2SMDpHtW",
        "colab_type": "text"
      },
      "source": [
        "Result:\n",
        "\n",
        "**Rurebus**\n",
        "\n",
        "RuBERT:\n",
        "\n",
        "* 1 epoch, f1 - 0.16, loss - 1.8\n",
        "* 10 epochs, f1 - 0.218, loss - 2.91\n",
        "\n",
        "Pretrained:\n",
        "\n",
        "* 10 epochs, f1 - 0.395, loss - 3.62\n",
        "\n",
        "**Sci**\n",
        "\n",
        "*\n"
      ]
    }
  ]
}